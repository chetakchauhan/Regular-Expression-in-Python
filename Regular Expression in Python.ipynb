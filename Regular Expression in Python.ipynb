{
 "cells": [
  {
   "cell_type": "code",
   "execution_count": 1,
   "metadata": {},
   "outputs": [],
   "source": [
    "# Loading the library\n",
    "\n",
    "import re"
   ]
  },
  {
   "cell_type": "code",
   "execution_count": 4,
   "metadata": {},
   "outputs": [
    {
     "name": "stdout",
     "output_type": "stream",
     "text": [
      "<_sre.SRE_Match object; span=(0, 5), match='Tiger'>\n"
     ]
    }
   ],
   "source": [
    "#1. Match function : will test if the searched pattern is at the start of the string or not\n",
    "\n",
    "string = \"Tiger is the national animal of India\"\n",
    "pattern = \"Tiger\"\n",
    "\n",
    "print(re.match(pattern, string))\n",
    "# This prints the match object and the starting and ending indexes of the searched pattern"
   ]
  },
  {
   "cell_type": "code",
   "execution_count": 5,
   "metadata": {},
   "outputs": [
    {
     "name": "stdout",
     "output_type": "stream",
     "text": [
      "Tiger\n"
     ]
    }
   ],
   "source": [
    "print(re.match(pattern, string).group(0))\n",
    "# This will print the pattern that was found"
   ]
  },
  {
   "cell_type": "code",
   "execution_count": 6,
   "metadata": {},
   "outputs": [
    {
     "name": "stdout",
     "output_type": "stream",
     "text": [
      "None\n"
     ]
    }
   ],
   "source": [
    "string = \"Tiger is the national animal of India\"\n",
    "pattern2 = \"national\"\n",
    "\n",
    "print(re.match(pattern2, string))\n",
    "# As the serached pattern is not at the start of the string, we get a None return value"
   ]
  },
  {
   "cell_type": "code",
   "execution_count": 8,
   "metadata": {},
   "outputs": [
    {
     "name": "stdout",
     "output_type": "stream",
     "text": [
      "<_sre.SRE_Match object; span=(13, 21), match='national'>\n"
     ]
    }
   ],
   "source": [
    "#2. Search function : will find the first occurrence of the pattern anywhere in the string\n",
    "\n",
    "string = \"Tiger is the national animal of India and national sports is hockey\"\n",
    "pattern = \"national\"\n",
    "\n",
    "print(re.search(pattern, string))\n",
    "# This prints the match object and the starting and ending indexes of the first occurence"
   ]
  },
  {
   "cell_type": "code",
   "execution_count": 10,
   "metadata": {},
   "outputs": [
    {
     "name": "stdout",
     "output_type": "stream",
     "text": [
      "['national', 'national']\n"
     ]
    }
   ],
   "source": [
    "#3. Findall function : will find all the occurrence of the pattern anywhere in the string\n",
    "\n",
    "string = \"Tiger is the national animal of India and national sports is hockey\"\n",
    "pattern = \"national\"\n",
    "\n",
    "print(re.findall(pattern, string))\n",
    "# This prints the list of the searched pattern, which in this case is of two items"
   ]
  },
  {
   "cell_type": "code",
   "execution_count": 21,
   "metadata": {},
   "outputs": [
    {
     "name": "stdout",
     "output_type": "stream",
     "text": [
      "<callable_iterator object at 0x10d6abd68>\n"
     ]
    }
   ],
   "source": [
    "#4. Finditer function : will return the indexes of all the occurrence of the pattern anywhere in the string\n",
    "\n",
    "string = \"Tiger is the national animal of India and national sports is hockey\"\n",
    "pattern = \"national\"\n",
    "\n",
    "iterator = re.finditer(pattern, string)\n",
    "print(iterator)\n",
    "# This prints the iterator object, we will need to iterate over it to get the indexes"
   ]
  },
  {
   "cell_type": "code",
   "execution_count": 22,
   "metadata": {},
   "outputs": [
    {
     "name": "stdout",
     "output_type": "stream",
     "text": [
      "13\n",
      "21\n",
      "42\n",
      "50\n"
     ]
    }
   ],
   "source": [
    "# To print the start and end indexes of the searched pattern\n",
    "for i in iterator:\n",
    "    print(i.start())\n",
    "    print(i.end())"
   ]
  },
  {
   "cell_type": "code",
   "execution_count": 24,
   "metadata": {},
   "outputs": [
    {
     "name": "stdout",
     "output_type": "stream",
     "text": [
      "['25-04-2019', '25-04-2019']\n"
     ]
    }
   ],
   "source": [
    "#5. Using wildcards in pattern formation\n",
    "\n",
    "# Lets say we want to extract all the date values from the following string\n",
    "\n",
    "string = \"Cheeku was born on 25-04-2019 and he came home on 25-04-2019\"\n",
    "pattern = '\\d{2}-\\d{2}-\\d{4}'\n",
    "\n",
    "print(re.findall(pattern, string))\n",
    "\n",
    "# \\d - any digit\n",
    "# {2} - two repetitions, i.e. two consecutive digits"
   ]
  },
  {
   "cell_type": "code",
   "execution_count": 25,
   "metadata": {},
   "outputs": [
    {
     "name": "stdout",
     "output_type": "stream",
     "text": [
      "Cheeku was born on Thursday and he came home on Thursday\n"
     ]
    }
   ],
   "source": [
    "#6. Substituing pattern in string\n",
    "\n",
    "# Lets say we want to replace all the date values from the following string\n",
    "\n",
    "string = \"Cheeku was born on 25-04-2019 and he came home on 25-04-2019\"\n",
    "pattern = '\\d{2}-\\d{2}-\\d{4}'\n",
    "replacement = 'Thursday'\n",
    "\n",
    "print(re.sub(pattern, replacement, string))"
   ]
  }
 ],
 "metadata": {
  "kernelspec": {
   "display_name": "Python 3",
   "language": "python",
   "name": "python3"
  },
  "language_info": {
   "codemirror_mode": {
    "name": "ipython",
    "version": 3
   },
   "file_extension": ".py",
   "mimetype": "text/x-python",
   "name": "python",
   "nbconvert_exporter": "python",
   "pygments_lexer": "ipython3",
   "version": "3.6.6"
  }
 },
 "nbformat": 4,
 "nbformat_minor": 4
}
